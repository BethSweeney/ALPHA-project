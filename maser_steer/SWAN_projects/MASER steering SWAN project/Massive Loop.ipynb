{
 "cells": [
  {
   "cell_type": "code",
   "execution_count": 3,
   "id": "41e686a0",
   "metadata": {},
   "outputs": [],
   "source": [
    "import numpy as np\n",
    "import pandas as pd\n",
    "import matplotlib.pyplot as plt\n",
    "import allantools as at\n",
    "from scipy.stats import norm\n",
    "from scipy.interpolate import UnivariateSpline"
   ]
  },
  {
   "cell_type": "markdown",
   "id": "f1468e20",
   "metadata": {},
   "source": [
    "# Section 1 - Define functions"
   ]
  },
  {
   "cell_type": "code",
   "execution_count": 4,
   "id": "429f4f77",
   "metadata": {},
   "outputs": [],
   "source": [
    "save_dir = '/eos/user/e/elsweene/SWAN_projects/Filtered_data_sets/'"
   ]
  },
  {
   "cell_type": "code",
   "execution_count": 5,
   "id": "98f19125",
   "metadata": {},
   "outputs": [],
   "source": [
    "## Load in CSF data\n",
    "\n",
    "Truncated_Time_data = pd.read_csv(save_dir +'Complete_CSF_Data_filtered.csv')\n",
    "filter2 = pd.read_csv(save_dir +\"CSF_data_frame_filter2.csv\",index_col=0)\n",
    "CSF_frame = pd.read_csv(save_dir +\"CSF_data_frame_unfiltered.csv\",index_col=0)"
   ]
  },
  {
   "cell_type": "code",
   "execution_count": 6,
   "id": "e0eb9ebe",
   "metadata": {},
   "outputs": [],
   "source": [
    "## Get rolling mean and fit line for linear drift\n",
    "\n",
    "rolling_mean = np.array(Truncated_Time_data['f0'].rolling(window=24).mean().dropna())\n",
    "shifted = np.array(Truncated_Time_data['f0'][:875]-rolling_mean[:875])\n",
    "m_rm, b_rm = np.polyfit(Truncated_Time_data['TimeStamp'][:875],-1*rolling_mean[:875], 1)"
   ]
  },
  {
   "cell_type": "code",
   "execution_count": 7,
   "id": "bcb5002a",
   "metadata": {},
   "outputs": [],
   "source": [
    "## Function of fitted linear drift line \n",
    "\n",
    "def mean_line(x,m,b):\n",
    "    \n",
    "    line = m*x+b\n",
    "    return line"
   ]
  },
  {
   "cell_type": "code",
   "execution_count": 8,
   "id": "25db4612",
   "metadata": {},
   "outputs": [],
   "source": [
    "## Define function to vary linear drift\n",
    "\n",
    "def Vary_Linear_drift(A):\n",
    "    \n",
    "    linear_drift_array = -1*Truncated_Time_data['f0'][:875]\n",
    "    fitted_lin_drift = mean_line(Truncated_Time_data['TimeStamp'][:875],(A-1)*m_rm,(((1-A)*m_rm*Truncated_Time_data['TimeStamp'][0])))\n",
    "    \n",
    "    new_linear_drift = linear_drift_array+fitted_lin_drift                            ## data with artificial drift\n",
    "    \n",
    "    m_LD, b_LD = np.polyfit(Truncated_Time_data['TimeStamp'][:875],new_linear_drift,1)    ## fit line to artificial drift\n",
    "    \n",
    "    return m_LD,b_LD"
   ]
  },
  {
   "cell_type": "code",
   "execution_count": 9,
   "id": "b8e3ce66",
   "metadata": {},
   "outputs": [],
   "source": [
    "## Function for linear drift distribution\n",
    "\n",
    "def linear_drift_dist(rm_range,linear_drift):\n",
    "\n",
    "    list_differences = []\n",
    "\n",
    "    for i in rm_range:\n",
    "\n",
    "        x1 = linear_drift[i]\n",
    "        x2 = linear_drift[i+1]\n",
    "\n",
    "        diff = x1 - x2\n",
    "\n",
    "        list_differences.append(diff)\n",
    "    \n",
    "    mu1, std1 = norm.fit(list_differences)\n",
    "    \n",
    "    return mu1,std1"
   ]
  },
  {
   "cell_type": "code",
   "execution_count": 10,
   "id": "b3b4de5e",
   "metadata": {},
   "outputs": [],
   "source": [
    "## Function to add random walk drift to generated mean line data\n",
    "\n",
    "def generate_random_walk(start_mean,start_sd,time_period,scalar,slope,constant):\n",
    "\n",
    "    RW_Noise_data = []\n",
    "    M= start_mean\n",
    "    S = start_sd\n",
    "\n",
    "    for i in time_period:\n",
    "        #print(M)\n",
    "        y_gen1 = mean_line(i,slope,constant)\n",
    "        draw_noise = norm.rvs(loc=M,scale=(scalar*S),size=1)\n",
    "\n",
    "        new_freq = y_gen1 + draw_noise\n",
    "\n",
    "        RW_Noise_data.append(new_freq)\n",
    "\n",
    "        M = draw_noise\n",
    "        #print(M)\n",
    "        \n",
    "    Rand_walk_array = np.array(RW_Noise_data)\n",
    "        \n",
    "    return Rand_walk_array"
   ]
  },
  {
   "cell_type": "code",
   "execution_count": 11,
   "id": "4203dbc4",
   "metadata": {},
   "outputs": [],
   "source": [
    "## Define function to add white noise to generated data\n",
    "\n",
    "def add_white_noise(index_array,RW_array,no_drift_array):    \n",
    "    \n",
    "    generated_freq = []\n",
    "    mu, std = norm.fit(no_drift_array)\n",
    "\n",
    "    for i in index_array:\n",
    "\n",
    "        y_gen = RW_array[i]\n",
    "        add_noise = norm.rvs(y_gen,scale= std,size=1)\n",
    "        a = add_noise[0]\n",
    "\n",
    "        generated_freq.append(a)\n",
    "        \n",
    "    return generated_freq"
   ]
  },
  {
   "cell_type": "code",
   "execution_count": 12,
   "id": "880b58b5",
   "metadata": {},
   "outputs": [],
   "source": [
    "## Define function to fit line \n",
    "\n",
    "def fit_line(Array_of_interest1,Array_of_interest2,index,numberhrs):\n",
    "    \n",
    "    m,b = np.polyfit(Array_of_interest1[index:index+numberhrs],-1*Array_of_interest2[index:index +numberhrs], 1)\n",
    "    \n",
    "    return m,b"
   ]
  },
  {
   "cell_type": "code",
   "execution_count": 13,
   "id": "d5274256",
   "metadata": {},
   "outputs": [],
   "source": [
    "## Define function to steer CSF \n",
    "\n",
    "def CSF_Correction(loop_range,number_hours,data_set):\n",
    "    \n",
    "    ## Assign arrays for indexing\n",
    "\n",
    "    F0_CSF_array_full = np.array(data_set)\n",
    "    Time_CSF_array_full = np.array(extend_1yr)\n",
    "\n",
    "    i = 0\n",
    "    F0_CSF_array_full1= np.array(data_set)\n",
    "    steps = []                                   # store steps to steer GPS data later\n",
    "\n",
    "    for i in loop_range:\n",
    "        \n",
    "        #print(i)\n",
    "\n",
    "        m,b = fit_line(Time_CSF_array_full,-1*F0_CSF_array_full1,i,number_hours)     ## fit to section of data \n",
    "        step_f = m*(Time_CSF_array_full[i+(number_hours-1)]) + b                ## calculate step using fit (removes outliers)\n",
    "\n",
    "        steps.append(step_f)\n",
    "\n",
    "\n",
    "        F0_CSF_array_full1[i:] -= step_f             # add step to all frequencies from this index on\n",
    "        \n",
    "        \n",
    "    return F0_CSF_array_full1,steps"
   ]
  },
  {
   "cell_type": "code",
   "execution_count": 14,
   "id": "bdd0c71a",
   "metadata": {},
   "outputs": [],
   "source": [
    "\n",
    "\n",
    "def Allan_Dev_Test(generated_data,step_sizes):\n",
    "\n",
    "    AD_differences = []\n",
    "\n",
    "    for i in step_sizes:\n",
    "\n",
    "        jump_steer_array, steps = CSF_Correction(np.arange(0,(7656-i),i),i,generated_data) \n",
    "\n",
    "        (t5, ad5, ade5, adn5) = at.oadev(np.array(generated_data), rate=1/3600, data_type=\"freq\",taus=np.logspace(0,6,100))\n",
    "        (t6, ad6, ade6, adn6) = at.oadev(jump_steer_array, rate=1/3600, data_type=\"freq\",taus=np.logspace(0,6,100))\n",
    "\n",
    "        difference_array = ad5-ad6\n",
    "\n",
    "        sum_difference_array = np.sum(difference_array)\n",
    "\n",
    "        AD_differences.append(sum_difference_array)\n",
    "        \n",
    "    return AD_differences"
   ]
  },
  {
   "cell_type": "code",
   "execution_count": 15,
   "id": "abbbb8de",
   "metadata": {},
   "outputs": [],
   "source": [
    "## Define function to generate data \n",
    "## Some loop arrays - all to generate data up to 1 year\n",
    "\n",
    "extend_1yr = np.arange(60006,60325,1/24)\n",
    "index_array_yr = np.arange(0,7656,1)\n",
    "AD_array_1week = np.arange(2,170,1)\n",
    "\n",
    "def Generate_data(Random_Walk,Linear_Drift):\n",
    "    \n",
    "    mean,stan_dev = linear_drift_dist(np.arange(0,874,1),-1*rolling_mean)\n",
    "    m_LD,b_LD = Vary_Linear_drift(Linear_Drift)\n",
    "    \n",
    "    generated_w_RW = generate_random_walk(mean,stan_dev,extend_1yr,Random_Walk,m_LD,b_LD)\n",
    "    gen_data = add_white_noise(index_array_yr,generated_w_RW,shifted)\n",
    "    \n",
    "    AD_differences_list = Allan_Dev_Test(np.array(gen_data), np.arange(2,170,1))\n",
    "    \n",
    "    return AD_differences_list"
   ]
  },
  {
   "cell_type": "code",
   "execution_count": 16,
   "id": "acd637fc",
   "metadata": {},
   "outputs": [],
   "source": [
    "## Define function to calculate implicit max of data set\n",
    "\n",
    "def Implicit_Max(array,list_to_store):\n",
    "    \n",
    "    Max = np.max(array[12:])\n",
    "    time_max = array.index(Max) + 2\n",
    "    list_to_store.append(time_max)\n",
    "    \n",
    "    return list_to_store"
   ]
  },
  {
   "cell_type": "code",
   "execution_count": 46,
   "id": "9d723da6",
   "metadata": {},
   "outputs": [],
   "source": [
    "## Define function to fit CUBIC to data and get max from that (eliminate outliers)\n",
    "\n",
    "def Quadratic_Fit_Max(array,list_to_store):\n",
    "    \n",
    "    a,b,c,d,e,f = np.polyfit(np.arange(8,170,1),array[6:],5)\n",
    "    quadratic_fit_array = a*np.arange(8,170,1)**5+b*np.arange(8,170,1)**4+c*np.arange(8,170,1)**3+d*np.arange(8,170,1)**2+e*np.arange(8,170,1)+f\n",
    "    q_fit_list = quadratic_fit_array.tolist()\n",
    "    fit_max = np.max(quadratic_fit_array[6:])\n",
    "    \n",
    "    fit_max_time = q_fit_list.index(fit_max) + 8               ## f index +2 = no hours\n",
    "    list_to_store.append(fit_max_time)\n",
    "    \n",
    "    return list_to_store,quadratic_fit_array"
   ]
  },
  {
   "cell_type": "code",
   "execution_count": 18,
   "id": "876b1d1c",
   "metadata": {},
   "outputs": [],
   "source": [
    "# ## Define function to fit CUBIC to data and get max from that (eliminate outliers)\n",
    "\n",
    "# def Quadratic_Fit_Max(array,list_to_store):\n",
    "    \n",
    "#     spl = UnivariateSpline(np.polyfit(np.arange(8,170,1),array[6:])\n",
    "    \n",
    "#     #a,b,c,d = np.polyfit(np.arange(8,170,1),array[6:],3)\n",
    "#     #quadratic_fit_array = a*np.arange(8,170,1)**3+b*np.arange(8,170,1)**2+c*np.arange(8,170,1)+d\n",
    "#     q_fit_list = quadratic_fit_array.tolist()\n",
    "#     fit_max = np.max(quadratic_fit_array[6:])\n",
    "    \n",
    "#     fit_max = q_fit_list.index(fit_max) + 2               ## f index +2 = no hours\n",
    "#     list_to_store.append(fit_max)\n",
    "    \n",
    "#     return list_to_store,quadratic_fit_array"
   ]
  },
  {
   "cell_type": "markdown",
   "id": "acb29e1a",
   "metadata": {},
   "source": [
    "# Section 2 - Run once for set LD and RW"
   ]
  },
  {
   "cell_type": "code",
   "execution_count": 19,
   "id": "8141bab1",
   "metadata": {},
   "outputs": [],
   "source": [
    "## Do first step by hand\n",
    "\n",
    "mean,stan_dev = linear_drift_dist(np.arange(0,874,1),-1*rolling_mean)"
   ]
  },
  {
   "cell_type": "code",
   "execution_count": 20,
   "id": "43d7ae8d",
   "metadata": {},
   "outputs": [],
   "source": [
    "m_5x,b_5x = Vary_Linear_drift(5)"
   ]
  },
  {
   "cell_type": "code",
   "execution_count": 21,
   "id": "c95689c1",
   "metadata": {},
   "outputs": [],
   "source": [
    "LD5_RW5 = generate_random_walk(mean,stan_dev,extend_1yr,5,m_5x,b_5x)"
   ]
  },
  {
   "cell_type": "code",
   "execution_count": 22,
   "id": "7212fb6a",
   "metadata": {},
   "outputs": [],
   "source": [
    "gen_data_5RW_LD = add_white_noise(index_array_yr,LD5_RW5,shifted)"
   ]
  },
  {
   "cell_type": "code",
   "execution_count": 23,
   "id": "6a87d47c",
   "metadata": {},
   "outputs": [],
   "source": [
    "test_5RW_5LD = Allan_Dev_Test(np.array(gen_data_5RW_LD), np.arange(2,170,1))"
   ]
  },
  {
   "cell_type": "code",
   "execution_count": 24,
   "id": "4cc2d5ac",
   "metadata": {},
   "outputs": [
    {
     "data": {
      "text/plain": [
       "[<matplotlib.lines.Line2D at 0x7f9032614550>]"
      ]
     },
     "execution_count": 24,
     "metadata": {},
     "output_type": "execute_result"
    },
    {
     "data": {
      "image/png": "[encoded data removed]",
      "text/plain": [
       "<Figure size 1080x720 with 1 Axes>"
      ]
     },
     "metadata": {
      "needs_background": "light"
     },
     "output_type": "display_data"
    }
   ],
   "source": [
    "plt.figure(figsize=(15,10))\n",
    "\n",
    "plt.xlabel('Number of hours',fontsize=20)\n",
    "plt.ylabel('Difference in sum of Allan Deviation from raw AD',fontsize=20)\n",
    "plt.title('AD differences for various step sizes 5x 5 LDRW',fontsize=25)\n",
    "\n",
    "\n",
    "a,b,c = np.polyfit(np.arange(2,170,1),test_5RW_5LD,2)\n",
    "quadratic_fit_array = a*np.arange(2,170,1)**2+b*np.arange(2,170,1)+c\n",
    "\n",
    "plt.plot(np.arange(2,170,1),quadratic_fit_array)\n",
    "plt.plot(np.arange(2,170,1),test_5RW_5LD,'o')"
   ]
  },
  {
   "cell_type": "code",
   "execution_count": 25,
   "id": "b2bc5f90",
   "metadata": {},
   "outputs": [],
   "source": [
    "fit_max = np.max(quadratic_fit_array[12:])"
   ]
  },
  {
   "cell_type": "code",
   "execution_count": 26,
   "id": "7079f0f0",
   "metadata": {},
   "outputs": [],
   "source": [
    "q_fit_list = quadratic_fit_array.tolist()"
   ]
  },
  {
   "cell_type": "code",
   "execution_count": 27,
   "id": "294011a2",
   "metadata": {},
   "outputs": [
    {
     "data": {
      "text/plain": [
       "12"
      ]
     },
     "execution_count": 27,
     "metadata": {},
     "output_type": "execute_result"
    }
   ],
   "source": [
    "q_fit_list.index(fit_max)           ## f index +2 = no hours"
   ]
  },
  {
   "cell_type": "code",
   "execution_count": 28,
   "id": "4eaed38e",
   "metadata": {},
   "outputs": [],
   "source": [
    "implicit_f_max = np.max(test_5RW_5LD[12:])"
   ]
  },
  {
   "cell_type": "code",
   "execution_count": 29,
   "id": "3c564fc2",
   "metadata": {},
   "outputs": [
    {
     "data": {
      "text/plain": [
       "13"
      ]
     },
     "execution_count": 29,
     "metadata": {},
     "output_type": "execute_result"
    }
   ],
   "source": [
    "test_5RW_5LD.index(implicit_f_max)           ## f index +2 = no hours"
   ]
  },
  {
   "cell_type": "code",
   "execution_count": 30,
   "id": "40fb3159",
   "metadata": {},
   "outputs": [
    {
     "data": {
      "text/plain": [
       "14"
      ]
     },
     "execution_count": 30,
     "metadata": {},
     "output_type": "execute_result"
    }
   ],
   "source": [
    "np.arange(2,170,1)[12]      ## want to store this "
   ]
  },
  {
   "cell_type": "code",
   "execution_count": 31,
   "id": "7e48ee0d",
   "metadata": {},
   "outputs": [],
   "source": [
    "test_function = Generate_data(5,5)"
   ]
  },
  {
   "cell_type": "code",
   "execution_count": 32,
   "id": "92436025",
   "metadata": {},
   "outputs": [
    {
     "data": {
      "text/plain": [
       "[<matplotlib.lines.Line2D at 0x7f9022d52040>]"
      ]
     },
     "execution_count": 32,
     "metadata": {},
     "output_type": "execute_result"
    },
    {
     "data": {
      "image/png": "[encoded data removed]",
      "text/plain": [
       "<Figure size 1080x720 with 1 Axes>"
      ]
     },
     "metadata": {
      "needs_background": "light"
     },
     "output_type": "display_data"
    }
   ],
   "source": [
    "plt.figure(figsize=(15,10))\n",
    "\n",
    "plt.xlabel('Number of hours',fontsize=20)\n",
    "plt.ylabel('Difference in sum of Allan Deviation from raw AD',fontsize=20)\n",
    "plt.title('AD differences for various step sizes 5x 5 LDRW',fontsize=25)\n",
    "\n",
    "\n",
    "a,b,c = np.polyfit(np.arange(2,170,1),test_function,2)\n",
    "quadratic_fit_array = a*np.arange(2,170,1)**2+b*np.arange(2,170,1)+c\n",
    "\n",
    "plt.plot(np.arange(2,170,1),quadratic_fit_array)\n",
    "plt.plot(np.arange(2,170,1),test_function,'o')"
   ]
  },
  {
   "cell_type": "markdown",
   "id": "1b0005b7",
   "metadata": {},
   "source": [
    "# Section 3 - Do this 10x and get average"
   ]
  },
  {
   "cell_type": "code",
   "execution_count": 171,
   "id": "58ba3744",
   "metadata": {},
   "outputs": [],
   "source": [
    "# data_list = []\n",
    "# added_list = []\n",
    "# implicit_max_list = []\n",
    "# quadratic_fit_max_list = []\n",
    "\n",
    "# for i in np.arange(0,5,1):\n",
    "    \n",
    "#     data = Generate_data(5,5)\n",
    "#     data_list.append(data)\n",
    "    \n",
    "\n",
    "# for n in np.arange(0,len(data_list[0]),1):\n",
    "    \n",
    "#     summed_up = data_list[i-5][n] + data_list[i-4][n] + data_list[i-3][n] + data_list[i-2][n] + data_list[i-1][n] +data_list[i][n]\n",
    "#     added_list.append(summed_up)\n",
    "\n",
    "# mean_array = np.array(added_list)/5\n",
    "# mean_list = mean_array.tolist()\n",
    "\n",
    "# implicit_f_max = np.max(mean_list[12:])\n",
    "# implicit_max = mean_list.index(implicit_f_max) + 2      ## f index +2 = no hours\n",
    "# implicit_max_list.append(implicit_max)\n",
    "\n",
    "# a,b,c = np.polyfit(np.arange(2,170,1),mean_list,2)\n",
    "# quadratic_fit_array = a*np.arange(2,170,1)**2+b*np.arange(2,170,1)+c\n",
    "# q_fit_list = quadratic_fit_array.tolist()\n",
    "# fit_max = np.max(quadratic_fit_array[12:])\n",
    "# fit_max = q_fit_list.index(fit_max) + 2               ## f index +2 = no hours\n",
    "# quadratic_fit_max_list.append(fit_max)"
   ]
  },
  {
   "cell_type": "code",
   "execution_count": 413,
   "id": "cf49d4c4",
   "metadata": {},
   "outputs": [],
   "source": [
    "from datetime import datetime"
   ]
  },
  {
   "cell_type": "code",
   "execution_count": 415,
   "id": "7d28c6da",
   "metadata": {},
   "outputs": [
    {
     "name": "stdout",
     "output_type": "stream",
     "text": [
      "0:00:00.000148\n"
     ]
    }
   ],
   "source": [
    "s =datetime.now()\n",
    "end = datetime.now()\n",
    "\n",
    "print(end-s)"
   ]
  },
  {
   "cell_type": "code",
   "execution_count": 416,
   "id": "55f98d2f",
   "metadata": {},
   "outputs": [
    {
     "name": "stdout",
     "output_type": "stream",
     "text": [
      "0:00:36.739226\n"
     ]
    }
   ],
   "source": [
    "## Loop to generate several sets of data for set LD and RW and get avg\n",
    "s =datetime.now()\n",
    "data_list = []\n",
    "added_list = []\n",
    "implicit_max_list = []\n",
    "quadratic_fit_max_list = []\n",
    "\n",
    "for i in np.arange(0,5,1):\n",
    "    \n",
    "    data = Generate_data(.1,1)\n",
    "    data_list.append(data)\n",
    "    \n",
    "mean_array = np.mean(np.array(data_list),axis=0)\n",
    "mean_list = mean_array.tolist()\n",
    "\n",
    "Im_Max = Implicit_Max(mean_list,implicit_max_list)\n",
    "Q_Fit_Max, Q_Fit = Quadratic_Fit_Max(mean_list,quadratic_fit_max_list)\n",
    "end = datetime.now()\n",
    "\n",
    "print(end-s)"
   ]
  },
  {
   "cell_type": "code",
   "execution_count": 279,
   "id": "04ea45c9",
   "metadata": {},
   "outputs": [
    {
     "data": {
      "text/plain": [
       "168"
      ]
     },
     "execution_count": 279,
     "metadata": {},
     "output_type": "execute_result"
    }
   ],
   "source": [
    "len(mean_list)"
   ]
  },
  {
   "cell_type": "code",
   "execution_count": 280,
   "id": "d4554554",
   "metadata": {},
   "outputs": [
    {
     "data": {
      "text/plain": [
       "[56]"
      ]
     },
     "execution_count": 280,
     "metadata": {},
     "output_type": "execute_result"
    }
   ],
   "source": [
    "Q_Fit_Max"
   ]
  },
  {
   "cell_type": "code",
   "execution_count": 281,
   "id": "5031d6d5",
   "metadata": {},
   "outputs": [
    {
     "data": {
      "text/plain": [
       "[55]"
      ]
     },
     "execution_count": 281,
     "metadata": {},
     "output_type": "execute_result"
    }
   ],
   "source": [
    "Im_Max"
   ]
  },
  {
   "cell_type": "code",
   "execution_count": 282,
   "id": "f4926b4c",
   "metadata": {},
   "outputs": [
    {
     "data": {
      "text/plain": [
       "[<matplotlib.lines.Line2D at 0x7f3dd1e0dd00>]"
      ]
     },
     "execution_count": 282,
     "metadata": {},
     "output_type": "execute_result"
    },
    {
     "data": {
      "image/png": "[encoded data removed]",
      "text/plain": [
       "<Figure size 1080x720 with 1 Axes>"
      ]
     },
     "metadata": {
      "needs_background": "light"
     },
     "output_type": "display_data"
    }
   ],
   "source": [
    "plt.figure(figsize=(15,10))\n",
    "\n",
    "plt.plot(np.arange(2,170,1),mean_list,'o')\n",
    "plt.plot(np.arange(8,170,1),Q_Fit)"
   ]
  },
  {
   "cell_type": "markdown",
   "id": "8e05535e",
   "metadata": {},
   "source": [
    "## 3.1 Run set LD and RW 1000x "
   ]
  },
  {
   "cell_type": "code",
   "execution_count": 33,
   "id": "9d3b329e",
   "metadata": {},
   "outputs": [],
   "source": [
    "save_dir1 = '/eos/user/e/elsweene/SWAN_projects/'"
   ]
  },
  {
   "cell_type": "code",
   "execution_count": 34,
   "id": "aa9eb375",
   "metadata": {},
   "outputs": [],
   "source": [
    "most_recent_data = pd.read_csv(save_dir1 +'recent_data_30_days_04_08.csv')"
   ]
  },
  {
   "cell_type": "code",
   "execution_count": 35,
   "id": "ed231b1e",
   "metadata": {},
   "outputs": [],
   "source": [
    "#plt.plot(most_recent_data['timestamp'],-1*most_recent_data['f0'],'x')"
   ]
  },
  {
   "cell_type": "code",
   "execution_count": 36,
   "id": "a285e9e9",
   "metadata": {},
   "outputs": [],
   "source": [
    "##\n",
    "\n",
    "rolling_mean_updated = np.array(most_recent_data['f0'].rolling(window=24).mean().dropna())\n",
    "shifted_updated = np.array(most_recent_data['f0'][:512]-rolling_mean_updated)\n",
    "m_rm1, b_rm1 = np.polyfit(most_recent_data['timestamp'][:512],-1*rolling_mean_updated[:512], 1)"
   ]
  },
  {
   "cell_type": "code",
   "execution_count": 37,
   "id": "f8ceb0b8",
   "metadata": {},
   "outputs": [],
   "source": [
    "## Define function to vary linear drift for up to date data\n",
    "\n",
    "def Vary_Linear_drift_updated(A):\n",
    "    \n",
    "    linear_drift_array = -1*most_recent_data['f0'][:512]\n",
    "    fitted_lin_drift = mean_line(most_recent_data['timestamp'][:512],(A-1)*m_rm1,(((1-A)*m_rm1*most_recent_data['timestamp'][0])))\n",
    "    \n",
    "    new_linear_drift = linear_drift_array+fitted_lin_drift                            ## data with artificial drift\n",
    "    \n",
    "    m_LD1, b_LD1 = np.polyfit(most_recent_data['timestamp'][:512],new_linear_drift,1)    ## fit line to artificial drift\n",
    "    \n",
    "    return m_LD1,b_LD1"
   ]
  },
  {
   "cell_type": "code",
   "execution_count": 38,
   "id": "5a6b08db",
   "metadata": {},
   "outputs": [],
   "source": [
    "## Define function to generate data up to date\n",
    "## Some loop arrays - all to generate data up to 1 year from MJD 60060\n",
    "\n",
    "extend_1yr_up_to_date = np.arange(60160,60525,1/24)\n",
    "index_array_yr_up_to_date = np.arange(0,8760,1)\n",
    "AD_array_1week = np.arange(2,170,1)\n",
    "\n",
    "def Generate_data_up_to_date(Random_Walk,Linear_Drift):\n",
    "    \n",
    "    mean1,stan_dev1 = linear_drift_dist(np.arange(0,511,1),-1*rolling_mean_updated)\n",
    "    m_LD1,b_LD1 = Vary_Linear_drift_updated(Linear_Drift)\n",
    "    #print(m_LD1,b_LD1)\n",
    "    \n",
    "    generated_w_RW = generate_random_walk(mean1,stan_dev1,extend_1yr_up_to_date,Random_Walk,m_LD1,b_LD1)\n",
    "    gen_data = add_white_noise(index_array_yr_up_to_date,generated_w_RW,shifted_updated)\n",
    "    \n",
    "    AD_differences_list = Allan_Dev_Test(np.array(gen_data), np.arange(2,170,1))\n",
    "    \n",
    "    return AD_differences_list"
   ]
  },
  {
   "cell_type": "code",
   "execution_count": 40,
   "id": "d27cc5a4",
   "metadata": {},
   "outputs": [
    {
     "data": {
      "text/plain": [
       "[<matplotlib.lines.Line2D at 0x7f9022bb80a0>]"
      ]
     },
     "execution_count": 40,
     "metadata": {},
     "output_type": "execute_result"
    },
    {
     "data": {
      "image/png": "[encoded data removed]",
      "text/plain": [
       "<Figure size 432x288 with 1 Axes>"
      ]
     },
     "metadata": {
      "needs_background": "light"
     },
     "output_type": "display_data"
    }
   ],
   "source": [
    "plt.plot(Generate_data_up_to_date(1,1),'x')"
   ]
  },
  {
   "cell_type": "code",
   "execution_count": 82,
   "id": "487f3f11",
   "metadata": {},
   "outputs": [],
   "source": [
    "data_list_updated = []\n",
    "added_list_updated = []\n",
    "implicit_max_list_updated = []\n",
    "quadratic_fit_max_list_updated = []\n",
    "\n",
    "for i in np.arange(0,1000,1):\n",
    "    \n",
    "    data_updated = Generate_data_up_to_date(1,1)\n",
    "    data_list_updated.append(data_updated)\n",
    "    \n",
    "mean_array_updated = np.mean(np.array(data_list_updated),axis=0)\n",
    "mean_list_updated = mean_array_updated.tolist()\n",
    "\n",
    "Im_Max_updated = Implicit_Max(mean_list_updated,implicit_max_list_updated)\n",
    "Q_Fit_Max_updated, Q_Fit_updated = Quadratic_Fit_Max(mean_list_updated,quadratic_fit_max_list_updated)"
   ]
  },
  {
   "cell_type": "code",
   "execution_count": 47,
   "id": "dbc7328c",
   "metadata": {},
   "outputs": [
    {
     "ename": "NameError",
     "evalue": "name 'mean_list_updated' is not defined",
     "output_type": "error",
     "traceback": [
      "\u001b[0;31m---------------------------------------------------------------------------\u001b[0m",
      "\u001b[0;31mNameError\u001b[0m                                 Traceback (most recent call last)",
      "\u001b[0;32m/tmp/ipykernel_626/533921265.py\u001b[0m in \u001b[0;36m<module>\u001b[0;34m\u001b[0m\n\u001b[0;32m----> 1\u001b[0;31m \u001b[0mIm_Max_updated\u001b[0m \u001b[0;34m=\u001b[0m \u001b[0mImplicit_Max\u001b[0m\u001b[0;34m(\u001b[0m\u001b[0mmean_list_updated\u001b[0m\u001b[0;34m,\u001b[0m\u001b[0mimplicit_max_list_updated\u001b[0m\u001b[0;34m)\u001b[0m\u001b[0;34m\u001b[0m\u001b[0;34m\u001b[0m\u001b[0m\n\u001b[0m\u001b[1;32m      2\u001b[0m \u001b[0mQ_Fit_Max_updated\u001b[0m\u001b[0;34m,\u001b[0m \u001b[0mQ_Fit_updated\u001b[0m \u001b[0;34m=\u001b[0m \u001b[0mQuadratic_Fit_Max\u001b[0m\u001b[0;34m(\u001b[0m\u001b[0mmean_list_updated\u001b[0m\u001b[0;34m,\u001b[0m\u001b[0mquadratic_fit_max_list_updated\u001b[0m\u001b[0;34m)\u001b[0m\u001b[0;34m\u001b[0m\u001b[0;34m\u001b[0m\u001b[0m\n",
      "\u001b[0;31mNameError\u001b[0m: name 'mean_list_updated' is not defined"
     ]
    }
   ],
   "source": [
    "Im_Max_updated = Implicit_Max(mean_list_updated,implicit_max_list_updated)\n",
    "Q_Fit_Max_updated, Q_Fit_updated = Quadratic_Fit_Max(mean_list_updated,quadratic_fit_max_list_updated)"
   ]
  },
  {
   "cell_type": "code",
   "execution_count": 83,
   "id": "cf44f674",
   "metadata": {},
   "outputs": [
    {
     "data": {
      "text/plain": [
       "[<matplotlib.lines.Line2D at 0x7f0985ca9ac0>]"
      ]
     },
     "execution_count": 83,
     "metadata": {},
     "output_type": "execute_result"
    },
    {
     "data": {
      "image/png": "[encoded data removed]",
      "text/plain": [
       "<Figure size 1080x720 with 1 Axes>"
      ]
     },
     "metadata": {
      "needs_background": "light"
     },
     "output_type": "display_data"
    }
   ],
   "source": [
    "plt.figure(figsize=(15,10))\n",
    "\n",
    "plt.plot(np.arange(2,170,1),mean_list_updated,'o')\n",
    "plt.plot(np.arange(8,170,1),Q_Fit_updated)"
   ]
  },
  {
   "cell_type": "code",
   "execution_count": 84,
   "id": "5d453505",
   "metadata": {},
   "outputs": [
    {
     "data": {
      "text/plain": [
       "[32]"
      ]
     },
     "execution_count": 84,
     "metadata": {},
     "output_type": "execute_result"
    }
   ],
   "source": [
    "Q_Fit_Max_updated"
   ]
  },
  {
   "cell_type": "code",
   "execution_count": 85,
   "id": "d8feaa37",
   "metadata": {},
   "outputs": [
    {
     "data": {
      "text/plain": [
       "[27]"
      ]
     },
     "execution_count": 85,
     "metadata": {},
     "output_type": "execute_result"
    }
   ],
   "source": [
    "Im_Max_updated"
   ]
  },
  {
   "cell_type": "markdown",
   "id": "e32bdc10",
   "metadata": {},
   "source": [
    "# Section 4 - Extend loop to vary RW and LD"
   ]
  },
  {
   "cell_type": "code",
   "execution_count": 28,
   "id": "b2cde844",
   "metadata": {},
   "outputs": [],
   "source": [
    "RW_range= np.arange(0.1,2.1,0.1)"
   ]
  },
  {
   "cell_type": "code",
   "execution_count": 29,
   "id": "de68238e",
   "metadata": {},
   "outputs": [],
   "source": [
    "LD_range = np.arange(-5,5.1,0.2)"
   ]
  },
  {
   "cell_type": "code",
   "execution_count": 30,
   "id": "55728a64",
   "metadata": {},
   "outputs": [
    {
     "name": "stdout",
     "output_type": "stream",
     "text": [
      "1020\n"
     ]
    }
   ],
   "source": [
    "print(len(LD_range)*len(RW_range))"
   ]
  },
  {
   "cell_type": "code",
   "execution_count": 31,
   "id": "1a9a49be",
   "metadata": {
    "scrolled": true
   },
   "outputs": [
    {
     "name": "stdout",
     "output_type": "stream",
     "text": [
      "0.1\n",
      "0.2\n",
      "0.30000000000000004\n",
      "0.4\n",
      "0.5\n",
      "0.6\n",
      "0.7000000000000001\n",
      "0.8\n",
      "0.9\n",
      "1.0\n",
      "1.1\n",
      "1.2000000000000002\n",
      "1.3000000000000003\n",
      "1.4000000000000001\n",
      "1.5000000000000002\n",
      "1.6\n",
      "1.7000000000000002\n",
      "1.8000000000000003\n",
      "1.9000000000000001\n",
      "2.0\n"
     ]
    }
   ],
   "source": [
    "implicit_max_list = []\n",
    "quadratic_fit_max_list = []\n",
    "store_LD = []\n",
    "store_RW = []\n",
    "\n",
    "for s in RW_range:\n",
    "    print(s)\n",
    "    \n",
    "    for n in LD_range:\n",
    "\n",
    "        data_list = []\n",
    "        added_list = []\n",
    "\n",
    "        for i in np.arange(0,5,1):\n",
    "\n",
    "            data = Generate_data(s,n)\n",
    "            data_list.append(data)\n",
    "\n",
    "        mean_array = np.mean(np.array(data_list),axis=0)\n",
    "        mean_list = mean_array.tolist()\n",
    "\n",
    "        Im_Max = Implicit_Max(mean_list,implicit_max_list)\n",
    "        Q_Fit_Max, Q_Fit = Quadratic_Fit_Max(mean_list,quadratic_fit_max_list)\n",
    "\n",
    "        #plt.plot(np.arange(2,170,1),mean_list,'o')\n",
    "        #plt.plot(np.arange(8,170,1),Q_Fit)\n",
    "\n",
    "        store_LD.append(n)\n",
    "        store_RW.append(s)"
   ]
  },
  {
   "cell_type": "code",
   "execution_count": 39,
   "id": "ca89a1ae",
   "metadata": {},
   "outputs": [],
   "source": [
    "data = {'Fit_max': Q_Fit_Max,\n",
    "        'IM_max': Im_Max,\n",
    "       'Ld':store_LD,\n",
    "       'RW':store_RW}\n",
    "  \n",
    "df_analysis = pd.DataFrame(data, columns=['Fit_max', 'IM_max','Ld','RW'])"
   ]
  },
  {
   "cell_type": "code",
   "execution_count": 89,
   "id": "8e9b4ffa",
   "metadata": {},
   "outputs": [],
   "source": [
    "#Q_Fit_Max"
   ]
  },
  {
   "cell_type": "code",
   "execution_count": 88,
   "id": "02ea72b7",
   "metadata": {},
   "outputs": [],
   "source": [
    "#Im_Max"
   ]
  },
  {
   "cell_type": "code",
   "execution_count": 86,
   "id": "9d83b23f",
   "metadata": {},
   "outputs": [],
   "source": [
    "#store_LD"
   ]
  },
  {
   "cell_type": "code",
   "execution_count": 87,
   "id": "317f619c",
   "metadata": {
    "scrolled": true
   },
   "outputs": [],
   "source": [
    "#store_RW"
   ]
  },
  {
   "cell_type": "code",
   "execution_count": 36,
   "id": "436a94d0",
   "metadata": {},
   "outputs": [],
   "source": [
    "save_dir = '/eos/user/e/elsweene/SWAN_projects/Filtered_data_sets/'"
   ]
  },
  {
   "cell_type": "code",
   "execution_count": 40,
   "id": "8c309bfa",
   "metadata": {},
   "outputs": [],
   "source": [
    "df_analysis.to_csv(save_dir+\"Q_Fit_Max.csv\", index=False)"
   ]
  },
  {
   "cell_type": "markdown",
   "id": "65563aaf",
   "metadata": {},
   "source": [
    "# RW and LD analysis - up to date data (04.08)"
   ]
  },
  {
   "cell_type": "code",
   "execution_count": 101,
   "id": "8d9f2a60",
   "metadata": {},
   "outputs": [],
   "source": [
    "RW_range = np.arange(0.1,2.1,0.1)\n",
    "LD_range = np.arange(-5,5.2,0.2)"
   ]
  },
  {
   "cell_type": "code",
   "execution_count": 102,
   "id": "ede034b6",
   "metadata": {},
   "outputs": [
    {
     "name": "stdout",
     "output_type": "stream",
     "text": [
      "1020\n"
     ]
    }
   ],
   "source": [
    "print(len(LD_range)*len(RW_range))"
   ]
  },
  {
   "cell_type": "code",
   "execution_count": 103,
   "id": "192dd8e9",
   "metadata": {},
   "outputs": [
    {
     "name": "stdout",
     "output_type": "stream",
     "text": [
      "0.1\n",
      "0.2\n",
      "0.30000000000000004\n",
      "0.4\n",
      "0.5\n",
      "0.6\n",
      "0.7000000000000001\n",
      "0.8\n",
      "0.9\n",
      "1.0\n",
      "1.1\n",
      "1.2000000000000002\n",
      "1.3000000000000003\n",
      "1.4000000000000001\n",
      "1.5000000000000002\n",
      "1.6\n",
      "1.7000000000000002\n",
      "1.8000000000000003\n",
      "1.9000000000000001\n",
      "2.0\n"
     ]
    }
   ],
   "source": [
    "implicit_max_list_updated = []\n",
    "quadratic_fit_max_list_updated = []\n",
    "store_LD_updated = []\n",
    "store_RW_updated = []\n",
    "\n",
    "for s in RW_range:\n",
    "    print(s)\n",
    "    \n",
    "    for n in LD_range:\n",
    "\n",
    "        data_list_updated = []\n",
    "        added_list_updated = []\n",
    "\n",
    "        for i in np.arange(0,5,1):\n",
    "\n",
    "            data_updated = Generate_data_up_to_date(s,n)\n",
    "            data_list_updated.append(data_updated)\n",
    "\n",
    "        mean_array_updated = np.mean(np.array(data_list_updated),axis=0)\n",
    "        mean_list_updated = mean_array_updated.tolist()\n",
    "\n",
    "        Im_Max_updated = Implicit_Max(mean_list_updated,implicit_max_list_updated)\n",
    "        Q_Fit_Max_updated, Q_Fit_updated = Quadratic_Fit_Max(mean_list_updated,quadratic_fit_max_list_updated)\n",
    "\n",
    "        #plt.plot(np.arange(2,170,1),mean_list,'o')\n",
    "        #plt.plot(np.arange(8,170,1),Q_Fit)\n",
    "\n",
    "        store_LD_updated.append(n)\n",
    "        store_RW_updated.append(s)"
   ]
  },
  {
   "cell_type": "code",
   "execution_count": 104,
   "id": "6d7b2403",
   "metadata": {},
   "outputs": [],
   "source": [
    "data1 = {'Fit_max': Q_Fit_Max_updated,\n",
    "        'IM_max': Im_Max_updated,\n",
    "       'Ld':store_LD_updated,\n",
    "       'RW':store_RW_updated}\n",
    "  \n",
    "df_analysis1 = pd.DataFrame(data1, columns=['Fit_max', 'IM_max','Ld','RW'])"
   ]
  },
  {
   "cell_type": "code",
   "execution_count": 106,
   "id": "5193e55a",
   "metadata": {},
   "outputs": [
    {
     "data": {
      "text/html": [
       "<div>\n",
       "<style scoped>\n",
       "    .dataframe tbody tr th:only-of-type {\n",
       "        vertical-align: middle;\n",
       "    }\n",
       "\n",
       "    .dataframe tbody tr th {\n",
       "        vertical-align: top;\n",
       "    }\n",
       "\n",
       "    .dataframe thead th {\n",
       "        text-align: right;\n",
       "    }\n",
       "</style>\n",
       "<table border=\"1\" class=\"dataframe\">\n",
       "  <thead>\n",
       "    <tr style=\"text-align: right;\">\n",
       "      <th></th>\n",
       "      <th>Fit_max</th>\n",
       "      <th>IM_max</th>\n",
       "      <th>Ld</th>\n",
       "      <th>RW</th>\n",
       "    </tr>\n",
       "  </thead>\n",
       "  <tbody>\n",
       "    <tr>\n",
       "      <th>0</th>\n",
       "      <td>87</td>\n",
       "      <td>92</td>\n",
       "      <td>-5.0</td>\n",
       "      <td>0.1</td>\n",
       "    </tr>\n",
       "    <tr>\n",
       "      <th>1</th>\n",
       "      <td>89</td>\n",
       "      <td>106</td>\n",
       "      <td>-4.8</td>\n",
       "      <td>0.1</td>\n",
       "    </tr>\n",
       "    <tr>\n",
       "      <th>2</th>\n",
       "      <td>128</td>\n",
       "      <td>92</td>\n",
       "      <td>-4.6</td>\n",
       "      <td>0.1</td>\n",
       "    </tr>\n",
       "    <tr>\n",
       "      <th>3</th>\n",
       "      <td>93</td>\n",
       "      <td>84</td>\n",
       "      <td>-4.4</td>\n",
       "      <td>0.1</td>\n",
       "    </tr>\n",
       "    <tr>\n",
       "      <th>4</th>\n",
       "      <td>98</td>\n",
       "      <td>98</td>\n",
       "      <td>-4.2</td>\n",
       "      <td>0.1</td>\n",
       "    </tr>\n",
       "    <tr>\n",
       "      <th>...</th>\n",
       "      <td>...</td>\n",
       "      <td>...</td>\n",
       "      <td>...</td>\n",
       "      <td>...</td>\n",
       "    </tr>\n",
       "    <tr>\n",
       "      <th>1015</th>\n",
       "      <td>14</td>\n",
       "      <td>18</td>\n",
       "      <td>4.2</td>\n",
       "      <td>2.0</td>\n",
       "    </tr>\n",
       "    <tr>\n",
       "      <th>1016</th>\n",
       "      <td>14</td>\n",
       "      <td>14</td>\n",
       "      <td>4.4</td>\n",
       "      <td>2.0</td>\n",
       "    </tr>\n",
       "    <tr>\n",
       "      <th>1017</th>\n",
       "      <td>14</td>\n",
       "      <td>15</td>\n",
       "      <td>4.6</td>\n",
       "      <td>2.0</td>\n",
       "    </tr>\n",
       "    <tr>\n",
       "      <th>1018</th>\n",
       "      <td>14</td>\n",
       "      <td>14</td>\n",
       "      <td>4.8</td>\n",
       "      <td>2.0</td>\n",
       "    </tr>\n",
       "    <tr>\n",
       "      <th>1019</th>\n",
       "      <td>14</td>\n",
       "      <td>20</td>\n",
       "      <td>5.0</td>\n",
       "      <td>2.0</td>\n",
       "    </tr>\n",
       "  </tbody>\n",
       "</table>\n",
       "<p>1020 rows × 4 columns</p>\n",
       "</div>"
      ],
      "text/plain": [
       "      Fit_max  IM_max   Ld   RW\n",
       "0          87      92 -5.0  0.1\n",
       "1          89     106 -4.8  0.1\n",
       "2         128      92 -4.6  0.1\n",
       "3          93      84 -4.4  0.1\n",
       "4          98      98 -4.2  0.1\n",
       "...       ...     ...  ...  ...\n",
       "1015       14      18  4.2  2.0\n",
       "1016       14      14  4.4  2.0\n",
       "1017       14      15  4.6  2.0\n",
       "1018       14      14  4.8  2.0\n",
       "1019       14      20  5.0  2.0\n",
       "\n",
       "[1020 rows x 4 columns]"
      ]
     },
     "execution_count": 106,
     "metadata": {},
     "output_type": "execute_result"
    }
   ],
   "source": [
    "df_analysis1"
   ]
  },
  {
   "cell_type": "code",
   "execution_count": 107,
   "id": "ee12901f",
   "metadata": {},
   "outputs": [],
   "source": [
    "save_dir = '/eos/user/e/elsweene/SWAN_projects/Filtered_data_sets/'"
   ]
  },
  {
   "cell_type": "code",
   "execution_count": 108,
   "id": "a600318e",
   "metadata": {},
   "outputs": [],
   "source": [
    "df_analysis1.to_csv(save_dir+\"recent_analysis.csv\", index=False)"
   ]
  },
  {
   "cell_type": "code",
   "execution_count": 43,
   "id": "da5bb3ec",
   "metadata": {},
   "outputs": [],
   "source": [
    "test_data = Generate_data_up_to_date(0.1,-5)"
   ]
  },
  {
   "cell_type": "code",
   "execution_count": 45,
   "id": "fa0b519a",
   "metadata": {},
   "outputs": [
    {
     "data": {
      "text/plain": [
       "[<matplotlib.lines.Line2D at 0x7f9022b00160>]"
      ]
     },
     "execution_count": 45,
     "metadata": {},
     "output_type": "execute_result"
    },
    {
     "data": {
      "image/png": "[encoded data removed]",
      "text/plain": [
       "<Figure size 432x288 with 1 Axes>"
      ]
     },
     "metadata": {
      "needs_background": "light"
     },
     "output_type": "display_data"
    }
   ],
   "source": [
    "plt.plot(test_data,'x')"
   ]
  },
  {
   "cell_type": "code",
   "execution_count": null,
   "id": "8dca6bb9",
   "metadata": {},
   "outputs": [],
   "source": []
  }
 ],
 "metadata": {
  "kernelspec": {
   "display_name": "Python 3",
   "language": "python",
   "name": "python3"
  },
  "language_info": {
   "codemirror_mode": {
    "name": "ipython",
    "version": 3
   },
   "file_extension": ".py",
   "mimetype": "text/x-python",
   "name": "python",
   "nbconvert_exporter": "python",
   "pygments_lexer": "ipython3",
   "version": "3.9.12"
  }
 },
 "nbformat": 4,
 "nbformat_minor": 5
}
